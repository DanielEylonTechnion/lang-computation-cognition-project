{
  "nbformat": 4,
  "nbformat_minor": 0,
  "metadata": {
    "colab": {
      "provenance": []
    },
    "kernelspec": {
      "name": "python3",
      "display_name": "Python 3"
    },
    "language_info": {
      "name": "python"
    }
  },
  "cells": [
    {
      "cell_type": "code",
      "execution_count": null,
      "metadata": {
        "id": "SDxJatyGk7MT"
      },
      "outputs": [],
      "source": [
        "## Create German text files:\n",
        "import csv\n",
        "import numpy as np\n",
        "import pandas as pd\n",
        "\n",
        "texts = ['b0', 'b1', 'b2', 'b3', 'b4', 'b5', 'p0', 'p1', 'p2', 'p3', 'p4', 'p5']\n",
        "strings = []\n",
        "for text in texts:\n",
        "  filename = \"/content/texts_tags/\" + text + '.tags'\n",
        "  wordTags = pd.read_csv(\n",
        "      filename,\n",
        "      sep='\\t',\n",
        "      na_values=['None', '.', 'NA', \"NaN\",],\n",
        "      usecols=['WORD', 'WordIndexInSentence', 'STTS_Punctuationbefore', 'STTS_Punctuationafter'])\n",
        "\n",
        "  sent = \"\"\n",
        "  for index, row in wordTags.iterrows():\n",
        "    if row['WordIndexInSentence'] == 1 and len(strings) != 0:\n",
        "      strings.append(sent)\n",
        "      sent = \"\"\n",
        "\n",
        "    before = \"\"\n",
        "    after = \"\"\n",
        "\n",
        "    if row['STTS_Punctuationbefore'] == row['STTS_Punctuationbefore']:\n",
        "      before = str(row['STTS_Punctuationbefore'])\n",
        "      before = \"\".join([before[i] for i in list(range(1, len(before), 2))])\n",
        "\n",
        "    if row['STTS_Punctuationafter'] == row['STTS_Punctuationafter']:\n",
        "      after = str(row['STTS_Punctuationafter'])\n",
        "      after = \"\".join([after[i] for i in list(range(1, len(after), 2))])\n",
        "      after = after.replace('(', ')')\n",
        "\n",
        "    sent += before + str(row[\"WORD\"]) + after + \" \"\n",
        "  strings.append(sent)"
      ]
    },
    {
      "cell_type": "code",
      "source": [
        "readers = [str(i) for i in range(106)]\n",
        "num_readers = 75\n",
        "all_words = []\n",
        "for text in texts:\n",
        "  words = []\n",
        "  for reader in readers:\n",
        "    filename = \"/content/readings/reader\" + reader + \"_\" + text + \"_merged.txt\"\n",
        "    try:\n",
        "      reading = pd.read_csv(\n",
        "          filename,\n",
        "          sep='\\t',\n",
        "          na_values=['None', '.', 'NA', \"NaN\",],\n",
        "          usecols=['WORD', 'WordIndexInSentence', 'WordLen', \"FRT\", \"TFT\"])\n",
        "    except FileNotFoundError:\n",
        "      continue\n",
        "\n",
        "    for index, row in reading.iterrows():\n",
        "      if index > len(words) - 1:\n",
        "        words.append([\n",
        "          str(row[\"WORD\"]),\n",
        "          row['WordIndexInSentence'],\n",
        "          row['WordLen'],\n",
        "          row['FRT'] / num_readers,\n",
        "          row['TFT'] / num_readers,\n",
        "        ])\n",
        "      else:\n",
        "        words[index][3] += row['FRT'] / num_readers\n",
        "        words[index][4] += row['TFT'] / num_readers\n",
        "  all_words.extend(words)"
      ],
      "metadata": {
        "id": "qmYLSy1wv_0c"
      },
      "execution_count": null,
      "outputs": []
    },
    {
      "cell_type": "code",
      "source": [
        "with open(\"raw_german_texts.txt\", \"w\") as f:\n",
        "  strings = [string + \"\\n\" for string in strings]\n",
        "  f.writelines(strings)\n",
        "\n",
        "with open(\"german_table.csv\", 'w', newline='') as f:\n",
        "  csvwriter = csv.writer(f)\n",
        "  csvwriter.writerow([\"word\", \"sentpos\", \"wlen\", \"firsttime\", \"totaltime\"])\n",
        "  csvwriter.writerows(all_words)"
      ],
      "metadata": {
        "id": "dCbGSa1_1yOj"
      },
      "execution_count": null,
      "outputs": []
    },
    {
      "cell_type": "code",
      "source": [
        "import csv\n",
        "\n",
        "def create_files(file1, file2, final_RTs, final_text):\n",
        "  with open(file1, 'r') as f:\n",
        "    csvreader = csv.reader(f)\n",
        "    words = {}\n",
        "    rows = [[r if r != \".\" else 0 for r in row] for row in csvreader]\n",
        "    rows.pop(0)\n",
        "\n",
        "  for row in rows:\n",
        "    if row[9] not in words.keys():\n",
        "      words[row[9]] = []\n",
        "    words[row[9]].append([row[10], len(row[10]), float(row[28]), float(row[53])])\n",
        "\n",
        "  for key in words.keys():\n",
        "    first = sum([r[2] for r in words[key]]) / len(words[key])\n",
        "    total = sum([r[3] for r in words[key]]) / len(words[key])\n",
        "    words[key] = [words[key][0][0], words[key][0][1], first, total]\n",
        "\n",
        "  with open(file2, 'r') as f:\n",
        "    csvreader = csv.reader(f)\n",
        "    words_list = [r for r in csvreader if r[0] not in [\"1-140-27\", \"2-106-39\"]] # removing and cleaning some double-word mistakes in the original data\n",
        "    words_list.pop(0)\n",
        "\n",
        "  words_list = [words[row[0]] for row in words_list]\n",
        "\n",
        "  with open(final_RTs, 'w', newline='') as f:\n",
        "    csvwriter = csv.writer(f)\n",
        "    csvwriter.writerow([\"word\", \"wlen\", \"firsttime\", \"totaltime\"])\n",
        "    csvwriter.writerows(words_list)\n",
        "\n",
        "  with open(file2, 'r') as f:\n",
        "    csvreader = csv.reader(f)\n",
        "    rows = [r for r in csvreader if r[0] not in [\"1-140-27\", \"2-106-39\"]]\n",
        "    i = 1\n",
        "    sents = []\n",
        "    temp = \"\"\n",
        "    while i < len(rows):\n",
        "      if rows[i][1] != rows[i - 1][1]:\n",
        "        sents.append(temp)\n",
        "        temp = \"\\n\"\n",
        "      temp += words[rows[i][0]][0].strip() + \" \"\n",
        "      i += 1\n",
        "    sents.append(temp)\n",
        "\n",
        "  with open(final_text, \"w\") as f:\n",
        "    f.writelines(sents)\n",
        "\n",
        "create_files(\"/content/EnglishReadingData.csv\", \"/content/EnglishMaterial.xlsx - ALL.csv\", \"english_RTs.csv\", \"english_text.txt\")\n",
        "create_files(\"/content/DutchReadingData.csv\", \"/content/DutchMaterials.xlsx - ALL.csv\", \"dutch_RTs.csv\", \"dutch_text.txt\")"
      ],
      "metadata": {
        "id": "YA95Rkck6VuG"
      },
      "execution_count": null,
      "outputs": []
    }
  ]
}